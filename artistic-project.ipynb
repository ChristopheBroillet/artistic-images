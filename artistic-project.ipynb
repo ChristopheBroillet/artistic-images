{
 "cells": [
  {
   "cell_type": "markdown",
   "id": "7b802d12",
   "metadata": {},
   "source": [
    "# Mini-Project: Artistic effects on images"
   ]
  },
  {
   "cell_type": "markdown",
   "id": "458879c7",
   "metadata": {},
   "source": [
    "This mini-project is part of the course *Digital Image Processing* given at the University of Fribourg, Automn Semester 2022. It consists of creating three different artistic effects on color images. These effects are:\n",
    "1. Oil painting effect\n",
    "2. Aging effect\n",
    "3. Mosaic effect\n",
    "\n",
    "**To run the Notebook, use the `Restart & Run All` button from the `Kernel` menu. At the end of the Notebook are some interactions to modify and test the artistic effects.**"
   ]
  },
  {
   "cell_type": "markdown",
   "id": "cc117eda",
   "metadata": {},
   "source": [
    "---\n",
    "### Libraries imports\n",
    "---"
   ]
  },
  {
   "cell_type": "code",
   "execution_count": null,
   "id": "ca99eefd",
   "metadata": {},
   "outputs": [],
   "source": [
    "import numpy as np\n",
    "from pathlib import Path\n",
    "import matplotlib.pyplot as plt\n",
    "%matplotlib inline\n",
    "from PIL import Image\n",
    "import copy\n",
    "from sklearn.metrics.pairwise import euclidean_distances\n",
    "import ipywidgets as widgets\n",
    "from ipywidgets import interact"
   ]
  },
  {
   "cell_type": "markdown",
   "id": "ee167ae9",
   "metadata": {},
   "source": [
    "---\n",
    "## 1) Oil painting effect\n",
    "---"
   ]
  },
  {
   "cell_type": "markdown",
   "id": "64428897",
   "metadata": {},
   "source": [
    "Covolution for a 3D image (e.g. RGB)"
   ]
  },
  {
   "cell_type": "code",
   "execution_count": null,
   "id": "92d2f7ba",
   "metadata": {},
   "outputs": [],
   "source": [
    "def convolution3d(image, kernel):\n",
    "    assert image.shape[0] == image.shape[1], \"ATM image should be square for convolutions\"\n",
    "    img_dim = image.shape[1]\n",
    "    kern_dim = kernel.shape[1]\n",
    "\n",
    "    # We want the same output dimensions as the input\n",
    "    out_dim = img_dim\n",
    "    # Can calculate the wanted padding from the general formula\n",
    "    # out_dim = int(np.floor((img_dim + 2*padding - kern_dim) / stride) + 1)\n",
    "    # Where we set stride=1\n",
    "    padding = int(((out_dim - 1) - img_dim + kern_dim) / 2)\n",
    "    \n",
    "    # Padding * 2 because we add zeros on width and length, but not height\n",
    "    padded_img = np.zeros((img_dim + padding * 2, img_dim + padding * 2, 3))\n",
    "    # Put image on the center\n",
    "    if padding != 0:\n",
    "        padded_img[padding:-padding, padding:-padding] = image\n",
    "    else:\n",
    "        padded_img = copy.deepcopy(image)\n",
    "        \n",
    "    convolved_img = np.zeros((out_dim, out_dim))\n",
    "    # +1 because otherwise it is excluded (and we will have a black line)\n",
    "    for i in range(len(padded_img) - kern_dim + 1):\n",
    "        for j in range(len(padded_img[0]) - kern_dim + 1):\n",
    "            # Convolution step\n",
    "            # Element-wise multiplication, then sum\n",
    "            convolved_img[i][j] = np.array(kernel * padded_img[i:i+kern_dim, j:j+kern_dim]).sum()\n",
    "                    \n",
    "    return convolved_img"
   ]
  },
  {
   "cell_type": "markdown",
   "id": "bd1487c1",
   "metadata": {},
   "source": [
    "Main function for oil painting, inspired from http://supercomputingblog.com/graphics/oil-painting-algorithm/"
   ]
  },
  {
   "cell_type": "code",
   "execution_count": null,
   "id": "fc428472",
   "metadata": {},
   "outputs": [],
   "source": [
    "def oil_painting(img_data, radius=5):\n",
    "    # Intensity calculations\n",
    "    intensity_values = convolution3d(img_data, np.ones((1, 1, 3))/3)\n",
    "    \n",
    "    # New reference in memory\n",
    "    painting_img = copy.deepcopy(img_data)\n",
    "\n",
    "    # Pixels on the edges are left unchanged\n",
    "    for i in range(1, len(intensity_values)-1):\n",
    "        for j in range(1, len(intensity_values[0])-1):\n",
    "            # Radius will be reduced for pixel near the edges -> avoid that too much pixels are left unchanged\n",
    "            # To get a local zone\n",
    "            tmp_radius = radius\n",
    "            local_window = intensity_values[i-tmp_radius:i+tmp_radius+1, j-tmp_radius:j+tmp_radius+1]\n",
    "            while((local_window.shape[0] == 0) or (local_window.shape[1] == 0)):\n",
    "                tmp_radius = tmp_radius - 1\n",
    "                local_window = intensity_values[i-tmp_radius:i+tmp_radius+1, j-tmp_radius:j+tmp_radius+1]\n",
    "            \n",
    "            # Reference and count the different intensities\n",
    "            unique, counts = np.unique(local_window, return_counts=True)\n",
    "            most_occurent_intensity = unique[np.argmax(counts)]\n",
    "            # Take only the value having the given intensity\n",
    "            bool_mask = local_window == most_occurent_intensity\n",
    "            # For each color channel\n",
    "            sum_rgb = []\n",
    "            for k in range(3):\n",
    "                intensity_pixels = bool_mask*img_data[i-tmp_radius:i+tmp_radius+1, j-tmp_radius:j+tmp_radius+1, k]\n",
    "                sum_rgb.append(int(intensity_pixels.sum()))\n",
    "                        \n",
    "            # New RGB value is the ponderated with the most occurent intensity count\n",
    "            new_pixel = np.array(sum_rgb) / counts.max()\n",
    "            painting_img[i][j] = new_pixel\n",
    "\n",
    "    return painting_img"
   ]
  },
  {
   "cell_type": "markdown",
   "id": "d64fcf3a",
   "metadata": {},
   "source": [
    "---\n",
    "## 2) Aging effect\n",
    "---"
   ]
  },
  {
   "cell_type": "markdown",
   "id": "4378379a",
   "metadata": {},
   "source": [
    "Functions to convert between RGB and HSL (hue, saturation, luminence) color spaces"
   ]
  },
  {
   "cell_type": "code",
   "execution_count": null,
   "id": "56384e53",
   "metadata": {},
   "outputs": [],
   "source": [
    "def rgb_to_hsl(rgb_data):\n",
    "    # New reference, with floats instead of ints\n",
    "    new_hsl = rgb_data.astype(np.dtype('float64'))\n",
    "\n",
    "    for i, row in enumerate(rgb_data):\n",
    "        for j, column in enumerate(row):\n",
    "            # Normalize\n",
    "            pixel = column / 255\n",
    "            c_max = np.max(pixel)\n",
    "            c_min = np.min(pixel)\n",
    "            delta = c_max - c_min\n",
    "            argmax = np.argmax(pixel)\n",
    "            red, green, blue = pixel\n",
    "            \n",
    "            # Compute hue\n",
    "            if delta == 0:\n",
    "                hue = 0\n",
    "            elif argmax == 0:\n",
    "                hue = 60 * (((green - blue) / delta) % 6)\n",
    "            elif argmax == 1:\n",
    "                hue = 60 * (((blue - red) / delta) + 2)\n",
    "            else:\n",
    "                hue = 60 * (((red - green) / delta) + 4)\n",
    "                \n",
    "            # Compute lightness\n",
    "            lightness = (c_max + c_min) / 2\n",
    "                \n",
    "            # Compute saturation\n",
    "            if delta == 0:\n",
    "                saturation = 0\n",
    "            else:\n",
    "                saturation = delta / (1 - np.abs(2 * lightness - 1))\n",
    "\n",
    "            new_hsl[i][j] = np.array([hue, saturation, lightness])\n",
    "            \n",
    "    return new_hsl"
   ]
  },
  {
   "cell_type": "code",
   "execution_count": null,
   "id": "b5f343b7",
   "metadata": {},
   "outputs": [],
   "source": [
    "def hsl_to_rgb(hsl_data):\n",
    "    # Integer needed in RGB\n",
    "    new_rgb = hsl_data.astype(np.dtype('uint8'))\n",
    "\n",
    "    for i, row in enumerate(hsl_data):\n",
    "        for j, column in enumerate(row):\n",
    "            hue, saturation, lightness = column\n",
    "            \n",
    "            # Compute the constants needed in the calculation for RGB\n",
    "            c_const = (1 - np.abs(2 * lightness - 1)) * saturation\n",
    "            x_const = c_const * (1 - np.abs((hue / 60) % 2 - 1))\n",
    "            m_const = lightness - c_const / 2       \n",
    "            \n",
    "            # Assign RGB values depending on the hue\n",
    "            if 0 <= hue and hue < 60:\n",
    "                red = c_const\n",
    "                green = x_const\n",
    "                blue = 0\n",
    "            elif 60 <= hue and hue < 120:\n",
    "                red = x_const\n",
    "                green = c_const\n",
    "                blue = 0\n",
    "            elif 120 <= hue and hue < 180:\n",
    "                red = 0\n",
    "                green = c_const\n",
    "                blue = x_const\n",
    "            elif 180 <= hue and hue < 240:\n",
    "                red = 0\n",
    "                green = x_const\n",
    "                blue = c_const\n",
    "            elif 240 <= hue and hue < 300:\n",
    "                red = x_const\n",
    "                green = 0\n",
    "                blue = c_const\n",
    "            elif 300 <= hue and hue < 360:\n",
    "                red = c_const\n",
    "                green = 0\n",
    "                blue = x_const\n",
    "                \n",
    "            pixel = np.array([red, green, blue])\n",
    "            pixel = (pixel + m_const) * 255\n",
    "            # Integers needed in RGB\n",
    "            new_rgb[i][j] = pixel.astype(np.dtype('uint8'))\n",
    "    \n",
    "    return new_rgb"
   ]
  },
  {
   "cell_type": "markdown",
   "id": "d1127f32",
   "metadata": {},
   "source": [
    "Automatically normalize an input value in an input range to another output range"
   ]
  },
  {
   "cell_type": "code",
   "execution_count": null,
   "id": "ccf1b0a3",
   "metadata": {},
   "outputs": [],
   "source": [
    "def range_normalization(value, min_input, max_input, min_output, max_output):\n",
    "    return (value - min_input) / (max_input - min_input) * (max_output - min_output) + min_output"
   ]
  },
  {
   "cell_type": "markdown",
   "id": "5489b94e",
   "metadata": {},
   "source": [
    "This custom distribution returns 80% of the time the same input value. Otherwise it samples from a random distribution below or above the input value with equal probability"
   ]
  },
  {
   "cell_type": "code",
   "execution_count": null,
   "id": "1280ee19",
   "metadata": {},
   "outputs": [],
   "source": [
    "def custom_distribution(value, fluctuation):\n",
    "    rand = np.random.rand()\n",
    "    if rand < 0.8:\n",
    "        return value\n",
    "    if rand < 0.9:\n",
    "        return np.random.uniform(value - fluctuation, value)\n",
    "    if rand < 1:\n",
    "        return np.random.uniform(value + 1, value + fluctuation + 1)"
   ]
  },
  {
   "cell_type": "markdown",
   "id": "c8179650",
   "metadata": {},
   "source": [
    "Main function for the aging effect"
   ]
  },
  {
   "cell_type": "code",
   "execution_count": null,
   "id": "c2eff333",
   "metadata": {},
   "outputs": [],
   "source": [
    "def aging(img_data, degree_lightness, border_width_factor):\n",
    "    img_height, img_width, _nchannels = img_data.shape\n",
    "    hsl_img = rgb_to_hsl(img_data)\n",
    "    \n",
    "    # New reference in memory\n",
    "    aged_img = copy.deepcopy(hsl_img)\n",
    "    \n",
    "    # Lightness value for the borders of the image\n",
    "    edge_lightness = 0.8\n",
    "    border_width = int(border_width_factor * min(img_height, img_width))\n",
    "    border_fluctuations = max(1, int(0.01 * border_width))\n",
    "    \n",
    "    # Generate the borders using the custom distribution defined above (to smooth the borders)\n",
    "    # Left and right borders\n",
    "    left_border_limits = [int(custom_distribution(border_width, border_fluctuations))]\n",
    "    right_border_limits = [int(custom_distribution(img_width-border_width, border_fluctuations))]\n",
    "    for i in range(img_height-1):\n",
    "        left_border = left_border_limits[-1]\n",
    "        left_border_limits.append(int(custom_distribution(left_border, border_fluctuations)))\n",
    "        right_border = right_border_limits[-1]\n",
    "        right_border_limits.append(int(custom_distribution(right_border, border_fluctuations)))\n",
    "    # Top and bottom borders\n",
    "    top_border_limits = [int(custom_distribution(border_width, border_fluctuations))]\n",
    "    bottom_border_limits = [int(custom_distribution(img_height-border_width, border_fluctuations))]\n",
    "    for j in range(img_width-1):\n",
    "        top_border = top_border_limits[-1]\n",
    "        top_border_limits.append(int(custom_distribution(top_border, border_fluctuations)))\n",
    "        bottom_border = bottom_border_limits[-1]\n",
    "        bottom_border_limits.append(int(custom_distribution(bottom_border, border_fluctuations)))\n",
    "\n",
    "    for row_idx, row in enumerate(hsl_img):\n",
    "        for col_idx, pixel in enumerate(row):\n",
    "            # Red-yellow are between 0 and 60 degrees in hue\n",
    "            # Here fixed parameters, but one could modify them\n",
    "            new_hue = range_normalization(pixel[0], 0, 360, 32, 35)\n",
    "            new_saturation = range_normalization(pixel[1], 0, 1, 0.2, 0.5)\n",
    "            new_lightness = range_normalization(pixel[2], 0, 1, 0, 0.7)\n",
    "\n",
    "            # Modify the lightness for the borders\n",
    "            if col_idx < left_border_limits[row_idx]:\n",
    "                new_lightness = edge_lightness + (new_lightness-edge_lightness) * (col_idx/left_border_limits[row_idx])**degree_lightness\n",
    "            if col_idx > right_border_limits[row_idx]:\n",
    "                new_lightness = new_lightness + (edge_lightness-new_lightness) * ((col_idx-right_border_limits[row_idx])/(img_width-right_border_limits[row_idx]))**(1/degree_lightness)\n",
    "            if row_idx < top_border_limits[col_idx]:\n",
    "                new_lightness = edge_lightness + (new_lightness-edge_lightness) * (row_idx/top_border_limits[col_idx])**degree_lightness\n",
    "            if row_idx > bottom_border_limits[col_idx]:\n",
    "                new_lightness = new_lightness + (edge_lightness-new_lightness) * ((row_idx-bottom_border_limits[col_idx])/(img_height-bottom_border_limits[col_idx]))**(1/degree_lightness)\n",
    "\n",
    "            # Aggregate and place new pixel\n",
    "            new_pixel = np.array([new_hue, new_saturation, new_lightness])\n",
    "            aged_img[row_idx][col_idx] = new_pixel\n",
    "    \n",
    "    return hsl_to_rgb(aged_img)"
   ]
  },
  {
   "cell_type": "markdown",
   "id": "5458f2ce",
   "metadata": {},
   "source": [
    "---\n",
    "## 3) Mosaic effect\n",
    "---"
   ]
  },
  {
   "cell_type": "markdown",
   "id": "848e7de3",
   "metadata": {},
   "source": [
    "Function to generate a Voronoi partition. Seeds are generated randomly, but not too *close* to each other"
   ]
  },
  {
   "cell_type": "code",
   "execution_count": null,
   "id": "1c3ff3e1",
   "metadata": {},
   "outputs": [],
   "source": [
    "def voronoi_partition(img, k, border):\n",
    "    img_height, img_width, _nchannels = img.shape\n",
    "    # Keys are 'black' or the seeds positions\n",
    "    partitions = {'black': []}\n",
    "\n",
    "    # Generate a first seed\n",
    "    i = 0\n",
    "    seeds = []\n",
    "    first_seed = np.array([np.random.randint(0, img_height), np.random.randint(0, img_width)])\n",
    "    seeds.append(first_seed)\n",
    "    partitions[str(first_seed)] = [first_seed]\n",
    "    \n",
    "    # Set a minimum distance between seeds\n",
    "    # to ensure seeds are not too close from each other\n",
    "    # Approximation with k circles inside a rectangle\n",
    "    min_seed_distance = np.sqrt((img_width*img_height)/(np.pi*k))\n",
    "    # For border width\n",
    "    border_tolerance = range_normalization(border, 0, 1, 0.2*min_seed_distance, 0.35*min_seed_distance)\n",
    "    \n",
    "    # Generate k random seeds\n",
    "    while(i < k-1):\n",
    "        seed = np.array([np.random.randint(0, img_height), np.random.randint(0, img_width)])\n",
    "        # euclidean_distances returns a (1,k)-shaped array\n",
    "        distances = euclidean_distances([seed], seeds)[0]\n",
    "        if (distances > min_seed_distance).all():\n",
    "            seeds.append(seed)\n",
    "            partitions[str(seed)] = [seed]\n",
    "            i += 1\n",
    "    seeds = np.array(seeds)\n",
    "\n",
    "    for i in range(img_height):\n",
    "        for j in range(img_width):\n",
    "            point = np.array([i,j])\n",
    "            # euclidean_distances returns a (1,k)-shaped array\n",
    "            distances = euclidean_distances([point], seeds)[0]\n",
    "\n",
    "            sorted_distances = list(zip(distances, range(len(seeds))))\n",
    "            sorted_distances.sort(key=lambda x: x[0])\n",
    "\n",
    "            # If too close to two seeds, consider the pixel as black\n",
    "            if np.abs(sorted_distances[0][0] - sorted_distances[1][0]) < border_tolerance:\n",
    "                partitions['black'].append(point)\n",
    "            else:\n",
    "                # Take seed key of minimum element\n",
    "                partition_key = str(seeds[sorted_distances[0][1]])\n",
    "                partitions[partition_key].append(point)\n",
    "    \n",
    "    return partitions"
   ]
  },
  {
   "cell_type": "code",
   "execution_count": null,
   "id": "223d2957",
   "metadata": {},
   "outputs": [],
   "source": [
    "def mosaic(img, k, border):\n",
    "    # New reference\n",
    "    mosaic_img = copy.deepcopy(img)\n",
    "    \n",
    "    partitions = voronoi_partition(img, k, border)\n",
    "    \n",
    "    for key, partition in partitions.items():\n",
    "        if key == 'black':\n",
    "            for point in partition:\n",
    "                i, j = point\n",
    "                mosaic_img[i][j] = np.array([0,0,0])\n",
    "            continue\n",
    "\n",
    "        rgb_values = []\n",
    "        for point in partition:\n",
    "            i, j = point\n",
    "            rgb_values.append(img[i,j])\n",
    "            \n",
    "        new_rgb_value = np.mean(rgb_values, axis=0)\n",
    "\n",
    "        for point in partition:\n",
    "            i, j = point\n",
    "            mosaic_img[i][j] = new_rgb_value\n",
    "            \n",
    "    return mosaic_img"
   ]
  },
  {
   "cell_type": "markdown",
   "id": "54117322",
   "metadata": {},
   "source": [
    "---\n",
    "## Try the effects!\n",
    "---"
   ]
  },
  {
   "cell_type": "markdown",
   "id": "069bd473",
   "metadata": {},
   "source": [
    "Select the image on the left and the effect to apply on the right"
   ]
  },
  {
   "cell_type": "code",
   "execution_count": null,
   "id": "e7da3d31",
   "metadata": {},
   "outputs": [],
   "source": [
    "root_path = Path('images')\n",
    "images = [path.name for path in root_path.iterdir()]\n",
    "img_radiobuttons = widgets.RadioButtons(options=images)\n",
    "img_vbox = widgets.VBox(children=[img_radiobuttons])\n",
    "\n",
    "effects = ['Oil Painting', 'Aging', 'Mosaic']\n",
    "effects_radiobuttons = widgets.RadioButtons(options=effects)\n",
    "effects_vbox = widgets.VBox(children=[effects_radiobuttons])\n",
    "\n",
    "vboxes = [img_vbox, effects_vbox]\n",
    "output = widgets.HBox(children=vboxes)\n",
    "display(output)"
   ]
  },
  {
   "cell_type": "markdown",
   "id": "9c74ccc2",
   "metadata": {},
   "source": [
    "Try different effects with the interactive cursors. The original image is shown on the left while the transformed image is shown on the right"
   ]
  },
  {
   "cell_type": "code",
   "execution_count": null,
   "id": "3f9bd11c",
   "metadata": {},
   "outputs": [],
   "source": [
    "img_path = root_path / img_radiobuttons.value\n",
    "img_data = np.asarray(Image.open(img_path))\n",
    "\n",
    "# Plot the original image next to the transformed one\n",
    "def double_img_plot(img1, img2):\n",
    "    fig = plt.figure(figsize=(16,9))\n",
    "    fig.add_subplot(1, 2, 1)\n",
    "    plt.imshow(img1)\n",
    "    plt.axis('off')\n",
    "    fig.add_subplot(1, 2, 2)\n",
    "    plt.imshow(img2)\n",
    "    plt.axis('off')\n",
    "\n",
    "if effects_radiobuttons.value == 'Oil Painting':\n",
    "    @interact(radius=(1, 10, 1))\n",
    "    def plot_painting(radius=5):\n",
    "        oiled_img = oil_painting(img_data, radius)\n",
    "        double_img_plot(img_data, oiled_img);\n",
    "        \n",
    "elif effects_radiobuttons.value == 'Aging':\n",
    "    @interact(lightness=(2, 4, 1), border_width=(0.05, 0.15, 0.02))\n",
    "    def plot_aging(lightness=2, border_width=0.15):\n",
    "        aged_img = aging(img_data, lightness, border_width)\n",
    "        double_img_plot(img_data, aged_img);\n",
    "        \n",
    "elif effects_radiobuttons.value == 'Mosaic':\n",
    "    @interact(n_cells=(100, 1000, 100), cell_border=(0, 1, 0.1))\n",
    "    def plot_mosaic(n_cells=500, cell_border=0.5):\n",
    "        mosaic_img = mosaic(img_data, n_cells, cell_border)\n",
    "        double_img_plot(img_data, mosaic_img);"
   ]
  }
 ],
 "metadata": {
  "kernelspec": {
   "display_name": "Python 3 (ipykernel)",
   "language": "python",
   "name": "python3"
  },
  "language_info": {
   "codemirror_mode": {
    "name": "ipython",
    "version": 3
   },
   "file_extension": ".py",
   "mimetype": "text/x-python",
   "name": "python",
   "nbconvert_exporter": "python",
   "pygments_lexer": "ipython3",
   "version": "3.8.12"
  }
 },
 "nbformat": 4,
 "nbformat_minor": 5
}
